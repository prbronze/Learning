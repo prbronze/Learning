{
 "cells": [
  {
   "cell_type": "markdown",
   "metadata": {},
   "source": [
    "## Notebook para EDA utilizando o dataset _auto-mpg_\n",
    "> Este dataset é um dos conhecidos entre praticantes de DS/ML por ser simples simples para iniciantes, porém que nos permite entender as limitações de alguns algoritmos. O intuito deste notebook é entender um pouco da estrutura do dataset.\n",
    "Disponível em: http://archive.ics.uci.edu/ml/datasets/Auto+MPG"
   ]
  },
  {
   "cell_type": "code",
   "execution_count": 1,
   "metadata": {},
   "outputs": [],
   "source": [
    "import pandas as pd\n",
    "import matplotlib.pyplot as plt\n",
    "import seaborn as sns\n",
    "import numpy as np\n",
    "\n",
    "%matplotlib inline\n",
    "from scipy import stats"
   ]
  },
  {
   "cell_type": "code",
   "execution_count": 2,
   "metadata": {},
   "outputs": [],
   "source": [
    "df = pd.read_csv('auto-mpg.csv',index_col='car name')"
   ]
  },
  {
   "cell_type": "code",
   "execution_count": 3,
   "metadata": {
    "scrolled": true
   },
   "outputs": [
    {
     "name": "stdout",
     "output_type": "stream",
     "text": [
      "                            mpg  cylinders  displacement horsepower  weight  \\\n",
      "car name                                                                      \n",
      "chevrolet chevelle malibu  18.0          8         307.0        130    3504   \n",
      "buick skylark 320          15.0          8         350.0        165    3693   \n",
      "plymouth satellite         18.0          8         318.0        150    3436   \n",
      "amc rebel sst              16.0          8         304.0        150    3433   \n",
      "ford torino                17.0          8         302.0        140    3449   \n",
      "\n",
      "                           acceleration  model year  origin  \n",
      "car name                                                     \n",
      "chevrolet chevelle malibu          12.0          70       1  \n",
      "buick skylark 320                  11.5          70       1  \n",
      "plymouth satellite                 11.0          70       1  \n",
      "amc rebel sst                      12.0          70       1  \n",
      "ford torino                        10.5          70       1   \n",
      "\n",
      "               mpg   cylinders  displacement       weight  acceleration  \\\n",
      "count  398.000000  398.000000    398.000000   398.000000    398.000000   \n",
      "mean    23.514573    5.454774    193.425879  2970.424623     15.568090   \n",
      "std      7.815984    1.701004    104.269838   846.841774      2.757689   \n",
      "min      9.000000    3.000000     68.000000  1613.000000      8.000000   \n",
      "25%     17.500000    4.000000    104.250000  2223.750000     13.825000   \n",
      "50%     23.000000    4.000000    148.500000  2803.500000     15.500000   \n",
      "75%     29.000000    8.000000    262.000000  3608.000000     17.175000   \n",
      "max     46.600000    8.000000    455.000000  5140.000000     24.800000   \n",
      "\n",
      "       model year      origin  \n",
      "count  398.000000  398.000000  \n",
      "mean    76.010050    1.572864  \n",
      "std      3.697627    0.802055  \n",
      "min     70.000000    1.000000  \n",
      "25%     73.000000    1.000000  \n",
      "50%     76.000000    1.000000  \n",
      "75%     79.000000    2.000000  \n",
      "max     82.000000    3.000000  \n"
     ]
    }
   ],
   "source": [
    "print(df.head(),'\\n\\n',df.describe())\n",
    "#horsepower is not appearing and is numerical"
   ]
  },
  {
   "cell_type": "code",
   "execution_count": 4,
   "metadata": {
    "scrolled": true
   },
   "outputs": [
    {
     "data": {
      "text/plain": [
       "mpg             float64\n",
       "cylinders         int64\n",
       "displacement    float64\n",
       "horsepower       object\n",
       "weight            int64\n",
       "acceleration    float64\n",
       "model year        int64\n",
       "origin            int64\n",
       "dtype: object"
      ]
     },
     "execution_count": 4,
     "metadata": {},
     "output_type": "execute_result"
    }
   ],
   "source": [
    "df.dtypes"
   ]
  },
  {
   "cell_type": "markdown",
   "metadata": {},
   "source": [
    "_horsepower_ se apresenta como do tipo _objeto_ quando deveria se apresentar como _int_. Vamos procurar por padrões que nao sejam numéricos."
   ]
  },
  {
   "cell_type": "code",
   "execution_count": 5,
   "metadata": {
    "scrolled": true
   },
   "outputs": [
    {
     "data": {
      "text/html": [
       "<div>\n",
       "<style scoped>\n",
       "    .dataframe tbody tr th:only-of-type {\n",
       "        vertical-align: middle;\n",
       "    }\n",
       "\n",
       "    .dataframe tbody tr th {\n",
       "        vertical-align: top;\n",
       "    }\n",
       "\n",
       "    .dataframe thead th {\n",
       "        text-align: right;\n",
       "    }\n",
       "</style>\n",
       "<table border=\"1\" class=\"dataframe\">\n",
       "  <thead>\n",
       "    <tr style=\"text-align: right;\">\n",
       "      <th></th>\n",
       "      <th>mpg</th>\n",
       "      <th>cylinders</th>\n",
       "      <th>displacement</th>\n",
       "      <th>horsepower</th>\n",
       "      <th>weight</th>\n",
       "      <th>acceleration</th>\n",
       "      <th>model year</th>\n",
       "      <th>origin</th>\n",
       "    </tr>\n",
       "    <tr>\n",
       "      <th>car name</th>\n",
       "      <th></th>\n",
       "      <th></th>\n",
       "      <th></th>\n",
       "      <th></th>\n",
       "      <th></th>\n",
       "      <th></th>\n",
       "      <th></th>\n",
       "      <th></th>\n",
       "    </tr>\n",
       "  </thead>\n",
       "  <tbody>\n",
       "    <tr>\n",
       "      <th>ford pinto</th>\n",
       "      <td>25.0</td>\n",
       "      <td>4</td>\n",
       "      <td>98.0</td>\n",
       "      <td>?</td>\n",
       "      <td>2046</td>\n",
       "      <td>19.0</td>\n",
       "      <td>71</td>\n",
       "      <td>1</td>\n",
       "    </tr>\n",
       "    <tr>\n",
       "      <th>ford maverick</th>\n",
       "      <td>21.0</td>\n",
       "      <td>6</td>\n",
       "      <td>200.0</td>\n",
       "      <td>?</td>\n",
       "      <td>2875</td>\n",
       "      <td>17.0</td>\n",
       "      <td>74</td>\n",
       "      <td>1</td>\n",
       "    </tr>\n",
       "    <tr>\n",
       "      <th>renault lecar deluxe</th>\n",
       "      <td>40.9</td>\n",
       "      <td>4</td>\n",
       "      <td>85.0</td>\n",
       "      <td>?</td>\n",
       "      <td>1835</td>\n",
       "      <td>17.3</td>\n",
       "      <td>80</td>\n",
       "      <td>2</td>\n",
       "    </tr>\n",
       "    <tr>\n",
       "      <th>ford mustang cobra</th>\n",
       "      <td>23.6</td>\n",
       "      <td>4</td>\n",
       "      <td>140.0</td>\n",
       "      <td>?</td>\n",
       "      <td>2905</td>\n",
       "      <td>14.3</td>\n",
       "      <td>80</td>\n",
       "      <td>1</td>\n",
       "    </tr>\n",
       "    <tr>\n",
       "      <th>renault 18i</th>\n",
       "      <td>34.5</td>\n",
       "      <td>4</td>\n",
       "      <td>100.0</td>\n",
       "      <td>?</td>\n",
       "      <td>2320</td>\n",
       "      <td>15.8</td>\n",
       "      <td>81</td>\n",
       "      <td>2</td>\n",
       "    </tr>\n",
       "    <tr>\n",
       "      <th>amc concord dl</th>\n",
       "      <td>23.0</td>\n",
       "      <td>4</td>\n",
       "      <td>151.0</td>\n",
       "      <td>?</td>\n",
       "      <td>3035</td>\n",
       "      <td>20.5</td>\n",
       "      <td>82</td>\n",
       "      <td>1</td>\n",
       "    </tr>\n",
       "  </tbody>\n",
       "</table>\n",
       "</div>"
      ],
      "text/plain": [
       "                       mpg  cylinders  displacement horsepower  weight  \\\n",
       "car name                                                                 \n",
       "ford pinto            25.0          4          98.0          ?    2046   \n",
       "ford maverick         21.0          6         200.0          ?    2875   \n",
       "renault lecar deluxe  40.9          4          85.0          ?    1835   \n",
       "ford mustang cobra    23.6          4         140.0          ?    2905   \n",
       "renault 18i           34.5          4         100.0          ?    2320   \n",
       "amc concord dl        23.0          4         151.0          ?    3035   \n",
       "\n",
       "                      acceleration  model year  origin  \n",
       "car name                                                \n",
       "ford pinto                    19.0          71       1  \n",
       "ford maverick                 17.0          74       1  \n",
       "renault lecar deluxe          17.3          80       2  \n",
       "ford mustang cobra            14.3          80       1  \n",
       "renault 18i                   15.8          81       2  \n",
       "amc concord dl                20.5          82       1  "
      ]
     },
     "execution_count": 5,
     "metadata": {},
     "output_type": "execute_result"
    }
   ],
   "source": [
    "df[~df['horsepower'].str.contains('[\\d]+')]"
   ]
  },
  {
   "cell_type": "markdown",
   "metadata": {},
   "source": [
    "Alguns kernels existentes optam por remover estes valores, neste notebook a título de exploração vamos testar a utilização de regressão linear como método para imputar valores.\n",
    "\n",
    "Uma abordagem mais sensível para o caso de haverem mais dados que se assemelhassem a estes seria utilizar KNN regressores considerando que haveria maior quantidade de pontos dispersos próximos destas 6 observações"
   ]
  },
  {
   "cell_type": "markdown",
   "metadata": {},
   "source": [
    "# A ideia agora é testar o knn regressor e comparar com a regressão para imputar valores: ler o artigo do analythics vidhya"
   ]
  },
  {
   "cell_type": "markdown",
   "metadata": {},
   "source": [
    "O KNN talvez seja bem mais complexo para imputação pois variáveis categóricas como país deveriam para melhor serem alimentadas ao modelo serem One Hot Code Labeling(pd.get_dummy). Mesmo com one hot encoding a regressão linear parece ter melhor pontuação na validação cruzada então optamos por imputação via lin_reg"
   ]
  },
  {
   "cell_type": "code",
   "execution_count": 6,
   "metadata": {},
   "outputs": [
    {
     "name": "stderr",
     "output_type": "stream",
     "text": [
      "C:\\Users\\Bronze\\Anaconda3\\lib\\site-packages\\ipykernel_launcher.py:2: SettingWithCopyWarning: \n",
      "A value is trying to be set on a copy of a slice from a DataFrame.\n",
      "Try using .loc[row_indexer,col_indexer] = value instead\n",
      "\n",
      "See the caveats in the documentation: http://pandas.pydata.org/pandas-docs/stable/indexing.html#indexing-view-versus-copy\n",
      "  \n",
      "C:\\Users\\Bronze\\Anaconda3\\lib\\site-packages\\ipykernel_launcher.py:6: SettingWithCopyWarning: \n",
      "A value is trying to be set on a copy of a slice from a DataFrame.\n",
      "Try using .loc[row_indexer,col_indexer] = value instead\n",
      "\n",
      "See the caveats in the documentation: http://pandas.pydata.org/pandas-docs/stable/indexing.html#indexing-view-versus-copy\n",
      "  \n"
     ]
    }
   ],
   "source": [
    "train = df[df['horsepower'] != '?']\n",
    "train['horsepower'] = train['horsepower'].astype('float')\n",
    "\n",
    "df_to_fill = df[df['horsepower'] == '?']\n",
    "xz = df_to_fill[df_to_fill.columns.difference(['horsepower'])]\n",
    "xz['origin'] = pd.get_dummies(xz['origin'])"
   ]
  },
  {
   "cell_type": "code",
   "execution_count": 7,
   "metadata": {
    "scrolled": true
   },
   "outputs": [
    {
     "name": "stdout",
     "output_type": "stream",
     "text": [
      "Mean: 0.6426049354426734 +/- 0.14985505303270244\n"
     ]
    },
    {
     "name": "stderr",
     "output_type": "stream",
     "text": [
      "C:\\Users\\Bronze\\Anaconda3\\lib\\site-packages\\ipykernel_launcher.py:9: SettingWithCopyWarning: \n",
      "A value is trying to be set on a copy of a slice from a DataFrame.\n",
      "Try using .loc[row_indexer,col_indexer] = value instead\n",
      "\n",
      "See the caveats in the documentation: http://pandas.pydata.org/pandas-docs/stable/indexing.html#indexing-view-versus-copy\n",
      "  if __name__ == '__main__':\n",
      "C:\\Users\\Bronze\\Anaconda3\\lib\\site-packages\\sklearn\\preprocessing\\data.py:323: DataConversionWarning: Data with input dtype uint8, int64, float64 were all converted to float64 by MinMaxScaler.\n",
      "  return self.partial_fit(X, y)\n",
      "C:\\Users\\Bronze\\Anaconda3\\lib\\site-packages\\sklearn\\preprocessing\\data.py:323: DataConversionWarning: Data with input dtype uint8, int64, float64 were all converted to float64 by MinMaxScaler.\n",
      "  return self.partial_fit(X, y)\n"
     ]
    },
    {
     "data": {
      "text/plain": [
       "array([80.17532769, 93.4435469 , 60.45811015, 92.8277973 , 72.58412885,\n",
       "       87.01749132])"
      ]
     },
     "execution_count": 7,
     "metadata": {},
     "output_type": "execute_result"
    }
   ],
   "source": [
    "from sklearn.model_selection import train_test_split, KFold,  cross_val_score\n",
    "from sklearn.preprocessing import MinMaxScaler\n",
    "from sklearn.metrics import r2_score\n",
    "from sklearn.neighbors import KNeighborsRegressor\n",
    "from sklearn.linear_model import LinearRegression\n",
    "\n",
    "\n",
    "def KNN(pred):\n",
    "    train['origin'] = pd.get_dummies(train['origin'])\n",
    "    \n",
    "    X = train[train.columns.difference(['horsepower'])]\n",
    "                                       \n",
    "    X_train,X_test,y_train,y_test = train_test_split(\n",
    "        X,train['horsepower'],test_size = 0.2)\n",
    "\n",
    "    scaler = MinMaxScaler(feature_range=(0, 1))\n",
    "\n",
    "    #scalling all the DataFrames\n",
    "    X_train = pd.DataFrame(scaler.fit_transform(X_train))\n",
    "    X_test = pd.DataFrame(scaler.fit_transform(X_test))\n",
    "    pred = pd.DataFrame(scaler.transform(pred))\n",
    "\n",
    "    outer_cv = KFold(n_splits=5, shuffle=True)\n",
    "\n",
    "    knn= KNeighborsRegressor(n_neighbors=3,weights='distance')\n",
    "    knn.fit(X_train,y_train)\n",
    "    \n",
    "    nested_score = cross_val_score(knn, X=X_test, y=y_test, cv=outer_cv)\n",
    "    print('Mean:',nested_score.mean(),'+/-',nested_score.std())\n",
    "\n",
    "    y_pred = knn.predict(pred)\n",
    "    return y_pred\n",
    "\n",
    "KNN(xz)"
   ]
  },
  {
   "cell_type": "code",
   "execution_count": 8,
   "metadata": {},
   "outputs": [
    {
     "name": "stdout",
     "output_type": "stream",
     "text": [
      "Mean: 0.865929896215936 +/- 0.03880687359763401\n"
     ]
    },
    {
     "data": {
      "text/plain": [
       "array([59.05483176, 94.21238475, 59.44237064, 97.24166183, 78.53558519,\n",
       "       73.64382633])"
      ]
     },
     "execution_count": 8,
     "metadata": {},
     "output_type": "execute_result"
    }
   ],
   "source": [
    "def lin_reg(pred):\n",
    "    X_train,X_test,y_train,y_test = train_test_split(\n",
    "    train[train.columns.difference(['horsepower'])],train['horsepower'],test_size = 0.2,shuffle=True)\n",
    "\n",
    "    outer_cv = KFold(n_splits=3, shuffle=True)\n",
    "\n",
    "    reg = LinearRegression().fit(X_train,y_train)\n",
    "    y_pred = reg.predict(pred)\n",
    "    nested_score = cross_val_score(reg, X=X_test, y=y_test, cv=outer_cv)\n",
    "\n",
    "    #print(r2_score(y_test,y_pred))\n",
    "    print('Mean:',nested_score.mean(),'+/-',nested_score.std())\n",
    "    return y_pred\n",
    "\n",
    "lin_reg(xz)"
   ]
  },
  {
   "cell_type": "code",
   "execution_count": 33,
   "metadata": {},
   "outputs": [
    {
     "name": "stdout",
     "output_type": "stream",
     "text": [
      "Mean: 0.8835384333059393 +/- 0.002056032373602046\n"
     ]
    },
    {
     "data": {
      "text/html": [
       "<div>\n",
       "<style scoped>\n",
       "    .dataframe tbody tr th:only-of-type {\n",
       "        vertical-align: middle;\n",
       "    }\n",
       "\n",
       "    .dataframe tbody tr th {\n",
       "        vertical-align: top;\n",
       "    }\n",
       "\n",
       "    .dataframe thead th {\n",
       "        text-align: right;\n",
       "    }\n",
       "</style>\n",
       "<table border=\"1\" class=\"dataframe\">\n",
       "  <thead>\n",
       "    <tr style=\"text-align: right;\">\n",
       "      <th></th>\n",
       "      <th>acceleration</th>\n",
       "      <th>cylinders</th>\n",
       "      <th>displacement</th>\n",
       "      <th>model year</th>\n",
       "      <th>mpg</th>\n",
       "      <th>origin</th>\n",
       "      <th>weight</th>\n",
       "      <th>horsepower</th>\n",
       "    </tr>\n",
       "    <tr>\n",
       "      <th>car name</th>\n",
       "      <th></th>\n",
       "      <th></th>\n",
       "      <th></th>\n",
       "      <th></th>\n",
       "      <th></th>\n",
       "      <th></th>\n",
       "      <th></th>\n",
       "      <th></th>\n",
       "    </tr>\n",
       "  </thead>\n",
       "  <tbody>\n",
       "    <tr>\n",
       "      <th>ford pinto</th>\n",
       "      <td>19.0</td>\n",
       "      <td>4</td>\n",
       "      <td>98.0</td>\n",
       "      <td>71</td>\n",
       "      <td>25.0</td>\n",
       "      <td>1</td>\n",
       "      <td>2046</td>\n",
       "      <td>59.629502</td>\n",
       "    </tr>\n",
       "    <tr>\n",
       "      <th>ford maverick</th>\n",
       "      <td>17.0</td>\n",
       "      <td>6</td>\n",
       "      <td>200.0</td>\n",
       "      <td>74</td>\n",
       "      <td>21.0</td>\n",
       "      <td>1</td>\n",
       "      <td>2875</td>\n",
       "      <td>94.291393</td>\n",
       "    </tr>\n",
       "    <tr>\n",
       "      <th>renault lecar deluxe</th>\n",
       "      <td>17.3</td>\n",
       "      <td>4</td>\n",
       "      <td>85.0</td>\n",
       "      <td>80</td>\n",
       "      <td>40.9</td>\n",
       "      <td>0</td>\n",
       "      <td>1835</td>\n",
       "      <td>60.725513</td>\n",
       "    </tr>\n",
       "    <tr>\n",
       "      <th>ford mustang cobra</th>\n",
       "      <td>14.3</td>\n",
       "      <td>4</td>\n",
       "      <td>140.0</td>\n",
       "      <td>80</td>\n",
       "      <td>23.6</td>\n",
       "      <td>1</td>\n",
       "      <td>2905</td>\n",
       "      <td>97.387266</td>\n",
       "    </tr>\n",
       "    <tr>\n",
       "      <th>renault 18i</th>\n",
       "      <td>15.8</td>\n",
       "      <td>4</td>\n",
       "      <td>100.0</td>\n",
       "      <td>81</td>\n",
       "      <td>34.5</td>\n",
       "      <td>0</td>\n",
       "      <td>2320</td>\n",
       "      <td>78.931246</td>\n",
       "    </tr>\n",
       "    <tr>\n",
       "      <th>amc concord dl</th>\n",
       "      <td>20.5</td>\n",
       "      <td>4</td>\n",
       "      <td>151.0</td>\n",
       "      <td>82</td>\n",
       "      <td>23.0</td>\n",
       "      <td>1</td>\n",
       "      <td>3035</td>\n",
       "      <td>75.676007</td>\n",
       "    </tr>\n",
       "  </tbody>\n",
       "</table>\n",
       "</div>"
      ],
      "text/plain": [
       "                      acceleration  cylinders  displacement  model year   mpg  \\\n",
       "car name                                                                        \n",
       "ford pinto                    19.0          4          98.0          71  25.0   \n",
       "ford maverick                 17.0          6         200.0          74  21.0   \n",
       "renault lecar deluxe          17.3          4          85.0          80  40.9   \n",
       "ford mustang cobra            14.3          4         140.0          80  23.6   \n",
       "renault 18i                   15.8          4         100.0          81  34.5   \n",
       "amc concord dl                20.5          4         151.0          82  23.0   \n",
       "\n",
       "                      origin  weight  horsepower  \n",
       "car name                                          \n",
       "ford pinto                 1    2046   59.629502  \n",
       "ford maverick              1    2875   94.291393  \n",
       "renault lecar deluxe       0    1835   60.725513  \n",
       "ford mustang cobra         1    2905   97.387266  \n",
       "renault 18i                0    2320   78.931246  \n",
       "amc concord dl             1    3035   75.676007  "
      ]
     },
     "execution_count": 33,
     "metadata": {},
     "output_type": "execute_result"
    }
   ],
   "source": [
    "new_df = xz.copy()\n",
    "new_df['horsepower'] = pd.Series((lin_reg(xz)),index = new_df.index)\n",
    "new_df"
   ]
  },
  {
   "cell_type": "markdown",
   "metadata": {},
   "source": [
    "### criando a comparação para ambos os dataframes"
   ]
  },
  {
   "cell_type": "code",
   "execution_count": 38,
   "metadata": {},
   "outputs": [],
   "source": [
    "df_inputed = pd.concat([new_df,train],sort=True)"
   ]
  },
  {
   "cell_type": "markdown",
   "metadata": {},
   "source": [
    "#### proxima etapa EDA"
   ]
  },
  {
   "cell_type": "code",
   "execution_count": 46,
   "metadata": {},
   "outputs": [
    {
     "data": {
      "text/plain": [
       "<matplotlib.axes._subplots.AxesSubplot at 0x1e9d383dfd0>"
      ]
     },
     "execution_count": 46,
     "metadata": {},
     "output_type": "execute_result"
    },
    {
     "data": {
      "image/png": "[encoded data removed]",
      "text/plain": [
       "<Figure size 432x288 with 1 Axes>"
      ]
     },
     "metadata": {
      "needs_background": "light"
     },
     "output_type": "display_data"
    }
   ],
   "source": [
    "sns.distplot(df_inputed['mpg'],bins=11)"
   ]
  },
  {
   "cell_type": "code",
   "execution_count": 66,
   "metadata": {},
   "outputs": [
    {
     "data": {
      "text/plain": [
       "acceleration    0.278777\n",
       "cylinders       0.526922\n",
       "displacement    0.719645\n",
       "horsepower      1.102103\n",
       "model year      0.011535\n",
       "mpg             0.457066\n",
       "origin         -0.521133\n",
       "weight          0.531063\n",
       "dtype: float64"
      ]
     },
     "execution_count": 66,
     "metadata": {},
     "output_type": "execute_result"
    }
   ],
   "source": [
    "df_inputed.skew(axis=0)"
   ]
  },
  {
   "cell_type": "code",
   "execution_count": 72,
   "metadata": {},
   "outputs": [
    {
     "data": {
      "text/html": [
       "<div>\n",
       "<style scoped>\n",
       "    .dataframe tbody tr th:only-of-type {\n",
       "        vertical-align: middle;\n",
       "    }\n",
       "\n",
       "    .dataframe tbody tr th {\n",
       "        vertical-align: top;\n",
       "    }\n",
       "\n",
       "    .dataframe thead th {\n",
       "        text-align: right;\n",
       "    }\n",
       "</style>\n",
       "<table border=\"1\" class=\"dataframe\">\n",
       "  <thead>\n",
       "    <tr style=\"text-align: right;\">\n",
       "      <th></th>\n",
       "      <th>level_0</th>\n",
       "      <th>level_1</th>\n",
       "      <th>0</th>\n",
       "    </tr>\n",
       "  </thead>\n",
       "  <tbody>\n",
       "    <tr>\n",
       "      <th>0</th>\n",
       "      <td>origin</td>\n",
       "      <td>model year</td>\n",
       "      <td>0.139883</td>\n",
       "    </tr>\n",
       "    <tr>\n",
       "      <th>1</th>\n",
       "      <td>model year</td>\n",
       "      <td>origin</td>\n",
       "      <td>0.139883</td>\n",
       "    </tr>\n",
       "    <tr>\n",
       "      <th>2</th>\n",
       "      <td>acceleration</td>\n",
       "      <td>origin</td>\n",
       "      <td>0.250806</td>\n",
       "    </tr>\n",
       "    <tr>\n",
       "      <th>3</th>\n",
       "      <td>origin</td>\n",
       "      <td>acceleration</td>\n",
       "      <td>0.250806</td>\n",
       "    </tr>\n",
       "    <tr>\n",
       "      <th>4</th>\n",
       "      <td>model year</td>\n",
       "      <td>acceleration</td>\n",
       "      <td>0.288137</td>\n",
       "    </tr>\n",
       "    <tr>\n",
       "      <th>5</th>\n",
       "      <td>acceleration</td>\n",
       "      <td>model year</td>\n",
       "      <td>0.288137</td>\n",
       "    </tr>\n",
       "    <tr>\n",
       "      <th>6</th>\n",
       "      <td>weight</td>\n",
       "      <td>model year</td>\n",
       "      <td>0.306564</td>\n",
       "    </tr>\n",
       "    <tr>\n",
       "      <th>7</th>\n",
       "      <td>model year</td>\n",
       "      <td>weight</td>\n",
       "      <td>0.306564</td>\n",
       "    </tr>\n",
       "    <tr>\n",
       "      <th>8</th>\n",
       "      <td>model year</td>\n",
       "      <td>cylinders</td>\n",
       "      <td>0.348746</td>\n",
       "    </tr>\n",
       "    <tr>\n",
       "      <th>9</th>\n",
       "      <td>cylinders</td>\n",
       "      <td>model year</td>\n",
       "      <td>0.348746</td>\n",
       "    </tr>\n",
       "    <tr>\n",
       "      <th>10</th>\n",
       "      <td>model year</td>\n",
       "      <td>displacement</td>\n",
       "      <td>0.370164</td>\n",
       "    </tr>\n",
       "    <tr>\n",
       "      <th>11</th>\n",
       "      <td>displacement</td>\n",
       "      <td>model year</td>\n",
       "      <td>0.370164</td>\n",
       "    </tr>\n",
       "    <tr>\n",
       "      <th>12</th>\n",
       "      <td>horsepower</td>\n",
       "      <td>model year</td>\n",
       "      <td>0.414285</td>\n",
       "    </tr>\n",
       "    <tr>\n",
       "      <th>13</th>\n",
       "      <td>model year</td>\n",
       "      <td>horsepower</td>\n",
       "      <td>0.414285</td>\n",
       "    </tr>\n",
       "    <tr>\n",
       "      <th>14</th>\n",
       "      <td>weight</td>\n",
       "      <td>acceleration</td>\n",
       "      <td>0.417457</td>\n",
       "    </tr>\n",
       "    <tr>\n",
       "      <th>15</th>\n",
       "      <td>acceleration</td>\n",
       "      <td>weight</td>\n",
       "      <td>0.417457</td>\n",
       "    </tr>\n",
       "    <tr>\n",
       "      <th>16</th>\n",
       "      <td>horsepower</td>\n",
       "      <td>origin</td>\n",
       "      <td>0.485056</td>\n",
       "    </tr>\n",
       "    <tr>\n",
       "      <th>17</th>\n",
       "      <td>origin</td>\n",
       "      <td>horsepower</td>\n",
       "      <td>0.485056</td>\n",
       "    </tr>\n",
       "    <tr>\n",
       "      <th>18</th>\n",
       "      <td>cylinders</td>\n",
       "      <td>acceleration</td>\n",
       "      <td>0.505419</td>\n",
       "    </tr>\n",
       "    <tr>\n",
       "      <th>19</th>\n",
       "      <td>acceleration</td>\n",
       "      <td>cylinders</td>\n",
       "      <td>0.505419</td>\n",
       "    </tr>\n",
       "    <tr>\n",
       "      <th>20</th>\n",
       "      <td>acceleration</td>\n",
       "      <td>displacement</td>\n",
       "      <td>0.543684</td>\n",
       "    </tr>\n",
       "    <tr>\n",
       "      <th>21</th>\n",
       "      <td>displacement</td>\n",
       "      <td>acceleration</td>\n",
       "      <td>0.543684</td>\n",
       "    </tr>\n",
       "    <tr>\n",
       "      <th>22</th>\n",
       "      <td>origin</td>\n",
       "      <td>weight</td>\n",
       "      <td>0.598398</td>\n",
       "    </tr>\n",
       "    <tr>\n",
       "      <th>23</th>\n",
       "      <td>weight</td>\n",
       "      <td>origin</td>\n",
       "      <td>0.598398</td>\n",
       "    </tr>\n",
       "    <tr>\n",
       "      <th>24</th>\n",
       "      <td>cylinders</td>\n",
       "      <td>origin</td>\n",
       "      <td>0.604351</td>\n",
       "    </tr>\n",
       "    <tr>\n",
       "      <th>25</th>\n",
       "      <td>origin</td>\n",
       "      <td>cylinders</td>\n",
       "      <td>0.604351</td>\n",
       "    </tr>\n",
       "    <tr>\n",
       "      <th>26</th>\n",
       "      <td>origin</td>\n",
       "      <td>displacement</td>\n",
       "      <td>0.651407</td>\n",
       "    </tr>\n",
       "    <tr>\n",
       "      <th>27</th>\n",
       "      <td>displacement</td>\n",
       "      <td>origin</td>\n",
       "      <td>0.651407</td>\n",
       "    </tr>\n",
       "    <tr>\n",
       "      <th>28</th>\n",
       "      <td>horsepower</td>\n",
       "      <td>acceleration</td>\n",
       "      <td>0.690156</td>\n",
       "    </tr>\n",
       "    <tr>\n",
       "      <th>29</th>\n",
       "      <td>acceleration</td>\n",
       "      <td>horsepower</td>\n",
       "      <td>0.690156</td>\n",
       "    </tr>\n",
       "    <tr>\n",
       "      <th>30</th>\n",
       "      <td>horsepower</td>\n",
       "      <td>cylinders</td>\n",
       "      <td>0.843194</td>\n",
       "    </tr>\n",
       "    <tr>\n",
       "      <th>31</th>\n",
       "      <td>cylinders</td>\n",
       "      <td>horsepower</td>\n",
       "      <td>0.843194</td>\n",
       "    </tr>\n",
       "    <tr>\n",
       "      <th>32</th>\n",
       "      <td>weight</td>\n",
       "      <td>horsepower</td>\n",
       "      <td>0.864838</td>\n",
       "    </tr>\n",
       "    <tr>\n",
       "      <th>33</th>\n",
       "      <td>horsepower</td>\n",
       "      <td>weight</td>\n",
       "      <td>0.864838</td>\n",
       "    </tr>\n",
       "    <tr>\n",
       "      <th>34</th>\n",
       "      <td>cylinders</td>\n",
       "      <td>weight</td>\n",
       "      <td>0.896017</td>\n",
       "    </tr>\n",
       "    <tr>\n",
       "      <th>35</th>\n",
       "      <td>weight</td>\n",
       "      <td>cylinders</td>\n",
       "      <td>0.896017</td>\n",
       "    </tr>\n",
       "    <tr>\n",
       "      <th>36</th>\n",
       "      <td>horsepower</td>\n",
       "      <td>displacement</td>\n",
       "      <td>0.897583</td>\n",
       "    </tr>\n",
       "    <tr>\n",
       "      <th>37</th>\n",
       "      <td>displacement</td>\n",
       "      <td>horsepower</td>\n",
       "      <td>0.897583</td>\n",
       "    </tr>\n",
       "    <tr>\n",
       "      <th>38</th>\n",
       "      <td>displacement</td>\n",
       "      <td>weight</td>\n",
       "      <td>0.932824</td>\n",
       "    </tr>\n",
       "    <tr>\n",
       "      <th>39</th>\n",
       "      <td>weight</td>\n",
       "      <td>displacement</td>\n",
       "      <td>0.932824</td>\n",
       "    </tr>\n",
       "    <tr>\n",
       "      <th>40</th>\n",
       "      <td>displacement</td>\n",
       "      <td>cylinders</td>\n",
       "      <td>0.950721</td>\n",
       "    </tr>\n",
       "    <tr>\n",
       "      <th>41</th>\n",
       "      <td>cylinders</td>\n",
       "      <td>displacement</td>\n",
       "      <td>0.950721</td>\n",
       "    </tr>\n",
       "  </tbody>\n",
       "</table>\n",
       "</div>"
      ],
      "text/plain": [
       "         level_0       level_1         0\n",
       "0         origin    model year  0.139883\n",
       "1     model year        origin  0.139883\n",
       "2   acceleration        origin  0.250806\n",
       "3         origin  acceleration  0.250806\n",
       "4     model year  acceleration  0.288137\n",
       "5   acceleration    model year  0.288137\n",
       "6         weight    model year  0.306564\n",
       "7     model year        weight  0.306564\n",
       "8     model year     cylinders  0.348746\n",
       "9      cylinders    model year  0.348746\n",
       "10    model year  displacement  0.370164\n",
       "11  displacement    model year  0.370164\n",
       "12    horsepower    model year  0.414285\n",
       "13    model year    horsepower  0.414285\n",
       "14        weight  acceleration  0.417457\n",
       "15  acceleration        weight  0.417457\n",
       "16    horsepower        origin  0.485056\n",
       "17        origin    horsepower  0.485056\n",
       "18     cylinders  acceleration  0.505419\n",
       "19  acceleration     cylinders  0.505419\n",
       "20  acceleration  displacement  0.543684\n",
       "21  displacement  acceleration  0.543684\n",
       "22        origin        weight  0.598398\n",
       "23        weight        origin  0.598398\n",
       "24     cylinders        origin  0.604351\n",
       "25        origin     cylinders  0.604351\n",
       "26        origin  displacement  0.651407\n",
       "27  displacement        origin  0.651407\n",
       "28    horsepower  acceleration  0.690156\n",
       "29  acceleration    horsepower  0.690156\n",
       "30    horsepower     cylinders  0.843194\n",
       "31     cylinders    horsepower  0.843194\n",
       "32        weight    horsepower  0.864838\n",
       "33    horsepower        weight  0.864838\n",
       "34     cylinders        weight  0.896017\n",
       "35        weight     cylinders  0.896017\n",
       "36    horsepower  displacement  0.897583\n",
       "37  displacement    horsepower  0.897583\n",
       "38  displacement        weight  0.932824\n",
       "39        weight  displacement  0.932824\n",
       "40  displacement     cylinders  0.950721\n",
       "41     cylinders  displacement  0.950721"
      ]
     },
     "execution_count": 72,
     "metadata": {},
     "output_type": "execute_result"
    }
   ],
   "source": [
    "features = df_inputed.columns.difference(['mpg'])\n",
    "correlations = df_inputed[features].corr().abs().unstack().sort_values().reset_index()\n",
    "correlations = correlations[correlations['level_0'] != correlations['level_1']]\n",
    "correlations"
   ]
  },
  {
   "cell_type": "code",
   "execution_count": 70,
   "metadata": {
    "scrolled": true
   },
   "outputs": [],
   "source": [
    "un_va = []\n",
    "\n",
    "for feat in features:\n",
    "    df_inputed[feat].value_counts()\n",
    "    values = df_inputed[feat].value_counts()\n",
    "    un_va.append([feat, values.max(), values.idxmax()])    "
   ]
  },
  {
   "cell_type": "code",
   "execution_count": 71,
   "metadata": {},
   "outputs": [
    {
     "data": {
      "text/plain": [
       "[['acceleration', 23, 14.5],\n",
       " ['cylinders', 204, 4],\n",
       " ['displacement', 21, 97.0],\n",
       " ['horsepower', 22, 150.0],\n",
       " ['model year', 40, 73],\n",
       " ['origin', 249, 1],\n",
       " ['weight', 4, 1985]]"
      ]
     },
     "execution_count": 71,
     "metadata": {},
     "output_type": "execute_result"
    }
   ],
   "source": [
    "un_va"
   ]
  },
  {
   "cell_type": "markdown",
   "metadata": {},
   "source": []
  }
 ],
 "metadata": {
  "kernelspec": {
   "display_name": "Python 3",
   "language": "python",
   "name": "python3"
  },
  "language_info": {
   "codemirror_mode": {
    "name": "ipython",
    "version": 3
   },
   "file_extension": ".py",
   "mimetype": "text/x-python",
   "name": "python",
   "nbconvert_exporter": "python",
   "pygments_lexer": "ipython3",
   "version": "3.7.1"
  }
 },
 "nbformat": 4,
 "nbformat_minor": 2
}
